{
 "cells": [
  {
   "cell_type": "code",
   "execution_count": 95,
   "id": "b7d7ac4a-a6e4-4489-974c-2e08b431b3d0",
   "metadata": {},
   "outputs": [],
   "source": [
    "#Social Media engament analysis"
   ]
  },
  {
   "cell_type": "code",
   "execution_count": 96,
   "id": "3eb9773a-6dd9-4330-93a6-98a2784b27b2",
   "metadata": {},
   "outputs": [],
   "source": [
    "#importing necessary modules for data analysis \n",
    "import pandas as pd\n",
    "import matplotlib.pyplot as plt\n",
    "import numpy as np"
   ]
  },
  {
   "cell_type": "code",
   "execution_count": 97,
   "id": "7668bc01-3219-4131-a02f-b9aaab2f7c02",
   "metadata": {},
   "outputs": [],
   "source": [
    "#loading data into df\n",
    "df = pd.read_excel('mediarates.xlsx')"
   ]
  },
  {
   "cell_type": "code",
   "execution_count": 98,
   "id": "6525e9ea-76d1-47dd-9ca0-9a9e952164a8",
   "metadata": {},
   "outputs": [
    {
     "data": {
      "text/html": [
       "<div>\n",
       "<style scoped>\n",
       "    .dataframe tbody tr th:only-of-type {\n",
       "        vertical-align: middle;\n",
       "    }\n",
       "\n",
       "    .dataframe tbody tr th {\n",
       "        vertical-align: top;\n",
       "    }\n",
       "\n",
       "    .dataframe thead th {\n",
       "        text-align: right;\n",
       "    }\n",
       "</style>\n",
       "<table border=\"1\" class=\"dataframe\">\n",
       "  <thead>\n",
       "    <tr style=\"text-align: right;\">\n",
       "      <th></th>\n",
       "      <th>user_id</th>\n",
       "      <th>post_type</th>\n",
       "      <th>post_length</th>\n",
       "      <th>likes</th>\n",
       "      <th>comments</th>\n",
       "      <th>shares</th>\n",
       "      <th>engagement_rate</th>\n",
       "      <th>user_followers</th>\n",
       "      <th>post_category</th>\n",
       "      <th>post_hour</th>\n",
       "      <th>is_weekend</th>\n",
       "      <th>user_verified</th>\n",
       "      <th>spam_flag</th>\n",
       "    </tr>\n",
       "  </thead>\n",
       "  <tbody>\n",
       "    <tr>\n",
       "      <th>0</th>\n",
       "      <td>1</td>\n",
       "      <td>video</td>\n",
       "      <td>287.0</td>\n",
       "      <td>306</td>\n",
       "      <td>52</td>\n",
       "      <td>35</td>\n",
       "      <td>4.457269</td>\n",
       "      <td>9204</td>\n",
       "      <td>fashion</td>\n",
       "      <td>3</td>\n",
       "      <td>0</td>\n",
       "      <td>0</td>\n",
       "      <td>0</td>\n",
       "    </tr>\n",
       "    <tr>\n",
       "      <th>1</th>\n",
       "      <td>2</td>\n",
       "      <td>text</td>\n",
       "      <td>149.0</td>\n",
       "      <td>330</td>\n",
       "      <td>78</td>\n",
       "      <td>36</td>\n",
       "      <td>4.845244</td>\n",
       "      <td>596</td>\n",
       "      <td>sports</td>\n",
       "      <td>7</td>\n",
       "      <td>0</td>\n",
       "      <td>1</td>\n",
       "      <td>0</td>\n",
       "    </tr>\n",
       "    <tr>\n",
       "      <th>2</th>\n",
       "      <td>3</td>\n",
       "      <td>video</td>\n",
       "      <td>222.0</td>\n",
       "      <td>460</td>\n",
       "      <td>78</td>\n",
       "      <td>40</td>\n",
       "      <td>2.037067</td>\n",
       "      <td>1563</td>\n",
       "      <td>food</td>\n",
       "      <td>12</td>\n",
       "      <td>1</td>\n",
       "      <td>1</td>\n",
       "      <td>1</td>\n",
       "    </tr>\n",
       "    <tr>\n",
       "      <th>3</th>\n",
       "      <td>4</td>\n",
       "      <td>video</td>\n",
       "      <td>185.0</td>\n",
       "      <td>265</td>\n",
       "      <td>3</td>\n",
       "      <td>16</td>\n",
       "      <td>2.023281</td>\n",
       "      <td>6928</td>\n",
       "      <td>sports</td>\n",
       "      <td>9</td>\n",
       "      <td>1</td>\n",
       "      <td>0</td>\n",
       "      <td>0</td>\n",
       "    </tr>\n",
       "    <tr>\n",
       "      <th>4</th>\n",
       "      <td>5</td>\n",
       "      <td>text</td>\n",
       "      <td>270.0</td>\n",
       "      <td>397</td>\n",
       "      <td>95</td>\n",
       "      <td>34</td>\n",
       "      <td>0.531913</td>\n",
       "      <td>4353</td>\n",
       "      <td>food</td>\n",
       "      <td>17</td>\n",
       "      <td>1</td>\n",
       "      <td>1</td>\n",
       "      <td>1</td>\n",
       "    </tr>\n",
       "  </tbody>\n",
       "</table>\n",
       "</div>"
      ],
      "text/plain": [
       "   user_id post_type  post_length  likes  comments  shares  engagement_rate  \\\n",
       "0        1     video        287.0    306        52      35         4.457269   \n",
       "1        2      text        149.0    330        78      36         4.845244   \n",
       "2        3     video        222.0    460        78      40         2.037067   \n",
       "3        4     video        185.0    265         3      16         2.023281   \n",
       "4        5      text        270.0    397        95      34         0.531913   \n",
       "\n",
       "   user_followers post_category  post_hour  is_weekend  user_verified  \\\n",
       "0            9204       fashion          3           0              0   \n",
       "1             596        sports          7           0              1   \n",
       "2            1563          food         12           1              1   \n",
       "3            6928        sports          9           1              0   \n",
       "4            4353          food         17           1              1   \n",
       "\n",
       "   spam_flag  \n",
       "0          0  \n",
       "1          0  \n",
       "2          1  \n",
       "3          0  \n",
       "4          1  "
      ]
     },
     "execution_count": 98,
     "metadata": {},
     "output_type": "execute_result"
    }
   ],
   "source": [
    "#showing top 5 records\n",
    "df.head(5)"
   ]
  },
  {
   "cell_type": "code",
   "execution_count": 99,
   "id": "f6c8cf23-cfb9-4dcd-9290-af06a8748766",
   "metadata": {},
   "outputs": [
    {
     "data": {
      "text/html": [
       "<div>\n",
       "<style scoped>\n",
       "    .dataframe tbody tr th:only-of-type {\n",
       "        vertical-align: middle;\n",
       "    }\n",
       "\n",
       "    .dataframe tbody tr th {\n",
       "        vertical-align: top;\n",
       "    }\n",
       "\n",
       "    .dataframe thead th {\n",
       "        text-align: right;\n",
       "    }\n",
       "</style>\n",
       "<table border=\"1\" class=\"dataframe\">\n",
       "  <thead>\n",
       "    <tr style=\"text-align: right;\">\n",
       "      <th></th>\n",
       "      <th>user_id</th>\n",
       "      <th>post_type</th>\n",
       "      <th>post_length</th>\n",
       "      <th>likes</th>\n",
       "      <th>comments</th>\n",
       "      <th>shares</th>\n",
       "      <th>engagement_rate</th>\n",
       "      <th>user_followers</th>\n",
       "      <th>post_category</th>\n",
       "      <th>post_hour</th>\n",
       "      <th>is_weekend</th>\n",
       "      <th>user_verified</th>\n",
       "      <th>spam_flag</th>\n",
       "    </tr>\n",
       "  </thead>\n",
       "  <tbody>\n",
       "    <tr>\n",
       "      <th>1995</th>\n",
       "      <td>1996</td>\n",
       "      <td>text</td>\n",
       "      <td>240.0</td>\n",
       "      <td>355</td>\n",
       "      <td>74</td>\n",
       "      <td>30</td>\n",
       "      <td>2.117025</td>\n",
       "      <td>7529</td>\n",
       "      <td>food</td>\n",
       "      <td>9</td>\n",
       "      <td>1</td>\n",
       "      <td>0</td>\n",
       "      <td>0</td>\n",
       "    </tr>\n",
       "    <tr>\n",
       "      <th>1996</th>\n",
       "      <td>1997</td>\n",
       "      <td>video</td>\n",
       "      <td>78.0</td>\n",
       "      <td>390</td>\n",
       "      <td>41</td>\n",
       "      <td>41</td>\n",
       "      <td>2.639116</td>\n",
       "      <td>5587</td>\n",
       "      <td>technology</td>\n",
       "      <td>13</td>\n",
       "      <td>0</td>\n",
       "      <td>0</td>\n",
       "      <td>0</td>\n",
       "    </tr>\n",
       "    <tr>\n",
       "      <th>1997</th>\n",
       "      <td>1998</td>\n",
       "      <td>image</td>\n",
       "      <td>154.0</td>\n",
       "      <td>277</td>\n",
       "      <td>32</td>\n",
       "      <td>40</td>\n",
       "      <td>2.135815</td>\n",
       "      <td>336</td>\n",
       "      <td>food</td>\n",
       "      <td>21</td>\n",
       "      <td>0</td>\n",
       "      <td>0</td>\n",
       "      <td>0</td>\n",
       "    </tr>\n",
       "    <tr>\n",
       "      <th>1998</th>\n",
       "      <td>1999</td>\n",
       "      <td>video</td>\n",
       "      <td>251.0</td>\n",
       "      <td>73</td>\n",
       "      <td>49</td>\n",
       "      <td>42</td>\n",
       "      <td>3.384527</td>\n",
       "      <td>6904</td>\n",
       "      <td>food</td>\n",
       "      <td>11</td>\n",
       "      <td>1</td>\n",
       "      <td>1</td>\n",
       "      <td>1</td>\n",
       "    </tr>\n",
       "    <tr>\n",
       "      <th>1999</th>\n",
       "      <td>2000</td>\n",
       "      <td>video</td>\n",
       "      <td>243.0</td>\n",
       "      <td>486</td>\n",
       "      <td>62</td>\n",
       "      <td>15</td>\n",
       "      <td>4.555666</td>\n",
       "      <td>2523</td>\n",
       "      <td>technology</td>\n",
       "      <td>0</td>\n",
       "      <td>0</td>\n",
       "      <td>0</td>\n",
       "      <td>0</td>\n",
       "    </tr>\n",
       "  </tbody>\n",
       "</table>\n",
       "</div>"
      ],
      "text/plain": [
       "      user_id post_type  post_length  likes  comments  shares  \\\n",
       "1995     1996      text        240.0    355        74      30   \n",
       "1996     1997     video         78.0    390        41      41   \n",
       "1997     1998     image        154.0    277        32      40   \n",
       "1998     1999     video        251.0     73        49      42   \n",
       "1999     2000     video        243.0    486        62      15   \n",
       "\n",
       "      engagement_rate  user_followers post_category  post_hour  is_weekend  \\\n",
       "1995         2.117025            7529          food          9           1   \n",
       "1996         2.639116            5587    technology         13           0   \n",
       "1997         2.135815             336          food         21           0   \n",
       "1998         3.384527            6904          food         11           1   \n",
       "1999         4.555666            2523    technology          0           0   \n",
       "\n",
       "      user_verified  spam_flag  \n",
       "1995              0          0  \n",
       "1996              0          0  \n",
       "1997              0          0  \n",
       "1998              1          1  \n",
       "1999              0          0  "
      ]
     },
     "execution_count": 99,
     "metadata": {},
     "output_type": "execute_result"
    }
   ],
   "source": [
    "#showing last 5 records\n",
    "df.tail(5)"
   ]
  },
  {
   "cell_type": "code",
   "execution_count": 100,
   "id": "aa3606b1-2e00-4f8e-af46-cc39510b5b56",
   "metadata": {},
   "outputs": [
    {
     "data": {
      "text/plain": [
       "user_id            2000\n",
       "post_type          2000\n",
       "post_length        1900\n",
       "likes              2000\n",
       "comments           2000\n",
       "shares             2000\n",
       "engagement_rate    1900\n",
       "user_followers     2000\n",
       "post_category      2000\n",
       "post_hour          2000\n",
       "is_weekend         2000\n",
       "user_verified      2000\n",
       "spam_flag          2000\n",
       "dtype: int64"
      ]
     },
     "execution_count": 100,
     "metadata": {},
     "output_type": "execute_result"
    }
   ],
   "source": [
    "#total no of records\n",
    "df.count()"
   ]
  },
  {
   "cell_type": "code",
   "execution_count": 101,
   "id": "6e81f855-a665-482e-906b-ce96b06d4cf3",
   "metadata": {},
   "outputs": [
    {
     "data": {
      "text/html": [
       "<div>\n",
       "<style scoped>\n",
       "    .dataframe tbody tr th:only-of-type {\n",
       "        vertical-align: middle;\n",
       "    }\n",
       "\n",
       "    .dataframe tbody tr th {\n",
       "        vertical-align: top;\n",
       "    }\n",
       "\n",
       "    .dataframe thead th {\n",
       "        text-align: right;\n",
       "    }\n",
       "</style>\n",
       "<table border=\"1\" class=\"dataframe\">\n",
       "  <thead>\n",
       "    <tr style=\"text-align: right;\">\n",
       "      <th></th>\n",
       "      <th>user_id</th>\n",
       "      <th>post_length</th>\n",
       "      <th>likes</th>\n",
       "      <th>comments</th>\n",
       "      <th>shares</th>\n",
       "      <th>engagement_rate</th>\n",
       "      <th>user_followers</th>\n",
       "      <th>post_hour</th>\n",
       "      <th>is_weekend</th>\n",
       "      <th>user_verified</th>\n",
       "      <th>spam_flag</th>\n",
       "    </tr>\n",
       "  </thead>\n",
       "  <tbody>\n",
       "    <tr>\n",
       "      <th>count</th>\n",
       "      <td>2000.000000</td>\n",
       "      <td>1900.000000</td>\n",
       "      <td>2000.000000</td>\n",
       "      <td>2000.000000</td>\n",
       "      <td>2000.000000</td>\n",
       "      <td>1900.000000</td>\n",
       "      <td>2000.000000</td>\n",
       "      <td>2000.000000</td>\n",
       "      <td>2000.000000</td>\n",
       "      <td>2000.000000</td>\n",
       "      <td>2000.000000</td>\n",
       "    </tr>\n",
       "    <tr>\n",
       "      <th>mean</th>\n",
       "      <td>1000.500000</td>\n",
       "      <td>174.162632</td>\n",
       "      <td>247.492000</td>\n",
       "      <td>49.600500</td>\n",
       "      <td>24.164500</td>\n",
       "      <td>2.693385</td>\n",
       "      <td>5026.938000</td>\n",
       "      <td>11.745000</td>\n",
       "      <td>0.486500</td>\n",
       "      <td>0.518000</td>\n",
       "      <td>0.499500</td>\n",
       "    </tr>\n",
       "    <tr>\n",
       "      <th>std</th>\n",
       "      <td>577.494589</td>\n",
       "      <td>71.251606</td>\n",
       "      <td>144.747846</td>\n",
       "      <td>28.628844</td>\n",
       "      <td>14.419862</td>\n",
       "      <td>1.289315</td>\n",
       "      <td>2879.222375</td>\n",
       "      <td>6.840349</td>\n",
       "      <td>0.499943</td>\n",
       "      <td>0.499801</td>\n",
       "      <td>0.500125</td>\n",
       "    </tr>\n",
       "    <tr>\n",
       "      <th>min</th>\n",
       "      <td>1.000000</td>\n",
       "      <td>50.000000</td>\n",
       "      <td>0.000000</td>\n",
       "      <td>0.000000</td>\n",
       "      <td>0.000000</td>\n",
       "      <td>0.501085</td>\n",
       "      <td>107.000000</td>\n",
       "      <td>0.000000</td>\n",
       "      <td>0.000000</td>\n",
       "      <td>0.000000</td>\n",
       "      <td>0.000000</td>\n",
       "    </tr>\n",
       "    <tr>\n",
       "      <th>25%</th>\n",
       "      <td>500.750000</td>\n",
       "      <td>114.000000</td>\n",
       "      <td>120.000000</td>\n",
       "      <td>24.000000</td>\n",
       "      <td>12.000000</td>\n",
       "      <td>1.579119</td>\n",
       "      <td>2467.500000</td>\n",
       "      <td>6.000000</td>\n",
       "      <td>0.000000</td>\n",
       "      <td>0.000000</td>\n",
       "      <td>0.000000</td>\n",
       "    </tr>\n",
       "    <tr>\n",
       "      <th>50%</th>\n",
       "      <td>1000.500000</td>\n",
       "      <td>176.000000</td>\n",
       "      <td>246.500000</td>\n",
       "      <td>50.000000</td>\n",
       "      <td>24.000000</td>\n",
       "      <td>2.683675</td>\n",
       "      <td>5096.500000</td>\n",
       "      <td>12.000000</td>\n",
       "      <td>0.000000</td>\n",
       "      <td>1.000000</td>\n",
       "      <td>0.000000</td>\n",
       "    </tr>\n",
       "    <tr>\n",
       "      <th>75%</th>\n",
       "      <td>1500.250000</td>\n",
       "      <td>233.000000</td>\n",
       "      <td>374.000000</td>\n",
       "      <td>75.000000</td>\n",
       "      <td>37.000000</td>\n",
       "      <td>3.810330</td>\n",
       "      <td>7491.750000</td>\n",
       "      <td>18.000000</td>\n",
       "      <td>1.000000</td>\n",
       "      <td>1.000000</td>\n",
       "      <td>1.000000</td>\n",
       "    </tr>\n",
       "    <tr>\n",
       "      <th>max</th>\n",
       "      <td>2000.000000</td>\n",
       "      <td>299.000000</td>\n",
       "      <td>499.000000</td>\n",
       "      <td>99.000000</td>\n",
       "      <td>49.000000</td>\n",
       "      <td>4.997573</td>\n",
       "      <td>9995.000000</td>\n",
       "      <td>23.000000</td>\n",
       "      <td>1.000000</td>\n",
       "      <td>1.000000</td>\n",
       "      <td>1.000000</td>\n",
       "    </tr>\n",
       "  </tbody>\n",
       "</table>\n",
       "</div>"
      ],
      "text/plain": [
       "           user_id  post_length        likes     comments       shares  \\\n",
       "count  2000.000000  1900.000000  2000.000000  2000.000000  2000.000000   \n",
       "mean   1000.500000   174.162632   247.492000    49.600500    24.164500   \n",
       "std     577.494589    71.251606   144.747846    28.628844    14.419862   \n",
       "min       1.000000    50.000000     0.000000     0.000000     0.000000   \n",
       "25%     500.750000   114.000000   120.000000    24.000000    12.000000   \n",
       "50%    1000.500000   176.000000   246.500000    50.000000    24.000000   \n",
       "75%    1500.250000   233.000000   374.000000    75.000000    37.000000   \n",
       "max    2000.000000   299.000000   499.000000    99.000000    49.000000   \n",
       "\n",
       "       engagement_rate  user_followers    post_hour   is_weekend  \\\n",
       "count      1900.000000     2000.000000  2000.000000  2000.000000   \n",
       "mean          2.693385     5026.938000    11.745000     0.486500   \n",
       "std           1.289315     2879.222375     6.840349     0.499943   \n",
       "min           0.501085      107.000000     0.000000     0.000000   \n",
       "25%           1.579119     2467.500000     6.000000     0.000000   \n",
       "50%           2.683675     5096.500000    12.000000     0.000000   \n",
       "75%           3.810330     7491.750000    18.000000     1.000000   \n",
       "max           4.997573     9995.000000    23.000000     1.000000   \n",
       "\n",
       "       user_verified    spam_flag  \n",
       "count    2000.000000  2000.000000  \n",
       "mean        0.518000     0.499500  \n",
       "std         0.499801     0.500125  \n",
       "min         0.000000     0.000000  \n",
       "25%         0.000000     0.000000  \n",
       "50%         1.000000     0.000000  \n",
       "75%         1.000000     1.000000  \n",
       "max         1.000000     1.000000  "
      ]
     },
     "execution_count": 101,
     "metadata": {},
     "output_type": "execute_result"
    }
   ],
   "source": [
    "#describing data \n",
    "df.describe()"
   ]
  },
  {
   "cell_type": "code",
   "execution_count": 102,
   "id": "475a4ca5-0717-41de-8161-e8a72887d758",
   "metadata": {},
   "outputs": [
    {
     "name": "stdout",
     "output_type": "stream",
     "text": [
      "<class 'pandas.core.frame.DataFrame'>\n",
      "RangeIndex: 2000 entries, 0 to 1999\n",
      "Data columns (total 13 columns):\n",
      " #   Column           Non-Null Count  Dtype  \n",
      "---  ------           --------------  -----  \n",
      " 0   user_id          2000 non-null   int64  \n",
      " 1   post_type        2000 non-null   object \n",
      " 2   post_length      1900 non-null   float64\n",
      " 3   likes            2000 non-null   int64  \n",
      " 4   comments         2000 non-null   int64  \n",
      " 5   shares           2000 non-null   int64  \n",
      " 6   engagement_rate  1900 non-null   float64\n",
      " 7   user_followers   2000 non-null   int64  \n",
      " 8   post_category    2000 non-null   object \n",
      " 9   post_hour        2000 non-null   int64  \n",
      " 10  is_weekend       2000 non-null   int64  \n",
      " 11  user_verified    2000 non-null   int64  \n",
      " 12  spam_flag        2000 non-null   int64  \n",
      "dtypes: float64(2), int64(9), object(2)\n",
      "memory usage: 203.3+ KB\n"
     ]
    }
   ],
   "source": [
    "#printing info about data schema \n",
    "df.info()"
   ]
  },
  {
   "cell_type": "code",
   "execution_count": 103,
   "id": "e1c40b4a-0892-4461-99e0-b94cfb18635c",
   "metadata": {},
   "outputs": [],
   "source": [
    "#Handling null values\n",
    "df.fillna(0,inplace = True)\n",
    "#dropping duplicates\n",
    "df.drop_duplicates(inplace = True)"
   ]
  },
  {
   "cell_type": "code",
   "execution_count": 104,
   "id": "c84a11ac-42d6-4dfb-8475-6fbc58899ab0",
   "metadata": {},
   "outputs": [
    {
     "data": {
      "text/plain": [
       "array(['fashion', 'sports', 'food', 'technology'], dtype=object)"
      ]
     },
     "execution_count": 104,
     "metadata": {},
     "output_type": "execute_result"
    }
   ],
   "source": [
    "#identifying category of posts\n",
    "df['post_category'].unique()"
   ]
  },
  {
   "cell_type": "code",
   "execution_count": 105,
   "id": "55e9e6f0-c8ac-4211-997c-6f0fc7a2d5ee",
   "metadata": {},
   "outputs": [],
   "source": [
    "#finding top 5 user ids with highest followers\n",
    "top_followers_df = df.sort_values(by = 'user_followers',ascending=False).head(5)"
   ]
  },
  {
   "cell_type": "code",
   "execution_count": 106,
   "id": "febb7005-5944-4c78-b3e1-a318aaf8f893",
   "metadata": {},
   "outputs": [
    {
     "data": {
      "image/png": "[encoded data removed]",
      "text/plain": [
       "<Figure size 640x480 with 1 Axes>"
      ]
     },
     "metadata": {},
     "output_type": "display_data"
    }
   ],
   "source": [
    "#visualizing data of top 5 user ids with most followers\n",
    "plt.bar(list(top_followers_df['user_id'].astype(str)), list(top_followers_df['user_followers']))\n",
    "plt.xlabel('User ID')\n",
    "plt.ylabel('Number of Followers')\n",
    "plt.title('Top 5 Users with Highest Followers')\n",
    "plt.show()"
   ]
  },
  {
   "cell_type": "code",
   "execution_count": 107,
   "id": "d4ccae91-111a-4a0e-bcca-4ba39d558427",
   "metadata": {},
   "outputs": [
    {
     "data": {
      "image/png": "[encoded data removed]",
      "text/plain": [
       "<Figure size 640x480 with 1 Axes>"
      ]
     },
     "metadata": {},
     "output_type": "display_data"
    }
   ],
   "source": [
    "#user ids with highest engagement rate\n",
    "highest_engmnt_rate_df = df.sort_values(by = 'engagement_rate', ascending=False).head(5)\n",
    "\n",
    "#plotting user ids with different colors using horizontal bars\n",
    "colors = ['red','blue','green','purple','yellow']\n",
    "plt.barh(highest_engmnt_rate_df['user_id'].astype(str),highest_engmnt_rate_df['engagement_rate'],color=colors)\n",
    "plt.xlabel('USER ID')\n",
    "plt.ylabel('User Engagement')\n",
    "plt.title('Top 5 User with highest Engagement rate')\n",
    "plt.show()\n"
   ]
  },
  {
   "cell_type": "code",
   "execution_count": 108,
   "id": "d676239c-8e16-42cf-a1f5-f15ce58aa62b",
   "metadata": {},
   "outputs": [
    {
     "data": {
      "text/plain": [
       "user_id\n",
       "1       1\n",
       "1330    1\n",
       "1343    1\n",
       "1342    1\n",
       "1341    1\n",
       "       ..\n",
       "662     1\n",
       "661     1\n",
       "660     1\n",
       "659     1\n",
       "2000    1\n",
       "Name: count, Length: 2000, dtype: int64"
      ]
     },
     "execution_count": 108,
     "metadata": {},
     "output_type": "execute_result"
    }
   ],
   "source": [
    "df['user_id'].value_counts()"
   ]
  },
  {
   "cell_type": "code",
   "execution_count": 109,
   "id": "ac8243de-07a3-4400-9ade-6ef4f34a5229",
   "metadata": {},
   "outputs": [
    {
     "data": {
      "image/png": "[encoded data removed]",
      "text/plain": [
       "<Figure size 640x480 with 1 Axes>"
      ]
     },
     "metadata": {},
     "output_type": "display_data"
    }
   ],
   "source": [
    "#most engagement rate according to post category \n",
    "df_grp_by = df.groupby('post_category')['engagement_rate'].mean().reset_index()\n",
    "\n",
    "plt.pie(df_grp_by['engagement_rate'].values,labels = list(df_grp_by['post_category'].values), autopct='%1.1f%%')\n",
    "plt.title('most engagement rate according to post category')\n",
    "plt.show()"
   ]
  },
  {
   "cell_type": "code",
   "execution_count": 110,
   "id": "4ae5dd49-c96a-4fbc-b86d-65bb9fbc43c4",
   "metadata": {},
   "outputs": [
    {
     "data": {
      "image/png": "[encoded data removed]",
      "text/plain": [
       "<Figure size 640x480 with 1 Axes>"
      ]
     },
     "metadata": {},
     "output_type": "display_data"
    }
   ],
   "source": [
    "#finding out which post type is preferred the most \n",
    "post_type_high = df.groupby('post_type')['user_id'].count().reset_index()\n",
    "\n",
    "plt.bar(post_type_high['post_type'],post_type_high['user_id'],color = ['moccasin','orange','wheat'])\n",
    "plt.title('Most prefered post_type')\n",
    "plt.xlabel('post type')\n",
    "plt.ylabel('user id')\n",
    "plt.show()"
   ]
  },
  {
   "cell_type": "code",
   "execution_count": 111,
   "id": "20426caa-8a70-47af-acb5-255470e70be0",
   "metadata": {},
   "outputs": [
    {
     "data": {
      "text/plain": [
       "2000"
      ]
     },
     "execution_count": 111,
     "metadata": {},
     "output_type": "execute_result"
    }
   ],
   "source": [
    "#total users\n",
    "df['user_verified'].count()"
   ]
  },
  {
   "cell_type": "code",
   "execution_count": 112,
   "id": "f085d6df-267c-4742-ba30-9abaae921ce6",
   "metadata": {},
   "outputs": [
    {
     "data": {
      "text/plain": [
       "1036"
      ]
     },
     "execution_count": 112,
     "metadata": {},
     "output_type": "execute_result"
    }
   ],
   "source": [
    "#finding out number of verified users\n",
    "df[df['user_verified'] == 1]['user_verified'].count()"
   ]
  },
  {
   "cell_type": "code",
   "execution_count": 113,
   "id": "dd4c7043-2a84-4a8e-a165-5bc47582d58c",
   "metadata": {},
   "outputs": [
    {
     "data": {
      "text/plain": [
       "964"
      ]
     },
     "execution_count": 113,
     "metadata": {},
     "output_type": "execute_result"
    }
   ],
   "source": [
    "#total unverified users\n",
    "df['user_verified'].count() - df[df['user_verified'] == 1]['user_verified'].count()"
   ]
  },
  {
   "cell_type": "code",
   "execution_count": 114,
   "id": "a128bdc5-f06c-44da-9adb-0587410bc65d",
   "metadata": {},
   "outputs": [
    {
     "data": {
      "text/html": [
       "<div>\n",
       "<style scoped>\n",
       "    .dataframe tbody tr th:only-of-type {\n",
       "        vertical-align: middle;\n",
       "    }\n",
       "\n",
       "    .dataframe tbody tr th {\n",
       "        vertical-align: top;\n",
       "    }\n",
       "\n",
       "    .dataframe thead th {\n",
       "        text-align: right;\n",
       "    }\n",
       "</style>\n",
       "<table border=\"1\" class=\"dataframe\">\n",
       "  <thead>\n",
       "    <tr style=\"text-align: right;\">\n",
       "      <th></th>\n",
       "      <th>user_id</th>\n",
       "      <th>post_type</th>\n",
       "      <th>post_length</th>\n",
       "      <th>likes</th>\n",
       "      <th>comments</th>\n",
       "      <th>shares</th>\n",
       "      <th>engagement_rate</th>\n",
       "      <th>user_followers</th>\n",
       "      <th>post_category</th>\n",
       "      <th>post_hour</th>\n",
       "      <th>is_weekend</th>\n",
       "      <th>user_verified</th>\n",
       "      <th>spam_flag</th>\n",
       "    </tr>\n",
       "  </thead>\n",
       "  <tbody>\n",
       "    <tr>\n",
       "      <th>0</th>\n",
       "      <td>1</td>\n",
       "      <td>video</td>\n",
       "      <td>287.0</td>\n",
       "      <td>306</td>\n",
       "      <td>52</td>\n",
       "      <td>35</td>\n",
       "      <td>4.457269</td>\n",
       "      <td>9204</td>\n",
       "      <td>fashion</td>\n",
       "      <td>3</td>\n",
       "      <td>0</td>\n",
       "      <td>0</td>\n",
       "      <td>0</td>\n",
       "    </tr>\n",
       "    <tr>\n",
       "      <th>1</th>\n",
       "      <td>2</td>\n",
       "      <td>text</td>\n",
       "      <td>149.0</td>\n",
       "      <td>330</td>\n",
       "      <td>78</td>\n",
       "      <td>36</td>\n",
       "      <td>4.845244</td>\n",
       "      <td>596</td>\n",
       "      <td>sports</td>\n",
       "      <td>7</td>\n",
       "      <td>0</td>\n",
       "      <td>1</td>\n",
       "      <td>0</td>\n",
       "    </tr>\n",
       "    <tr>\n",
       "      <th>2</th>\n",
       "      <td>3</td>\n",
       "      <td>video</td>\n",
       "      <td>222.0</td>\n",
       "      <td>460</td>\n",
       "      <td>78</td>\n",
       "      <td>40</td>\n",
       "      <td>2.037067</td>\n",
       "      <td>1563</td>\n",
       "      <td>food</td>\n",
       "      <td>12</td>\n",
       "      <td>1</td>\n",
       "      <td>1</td>\n",
       "      <td>1</td>\n",
       "    </tr>\n",
       "    <tr>\n",
       "      <th>3</th>\n",
       "      <td>4</td>\n",
       "      <td>video</td>\n",
       "      <td>185.0</td>\n",
       "      <td>265</td>\n",
       "      <td>3</td>\n",
       "      <td>16</td>\n",
       "      <td>2.023281</td>\n",
       "      <td>6928</td>\n",
       "      <td>sports</td>\n",
       "      <td>9</td>\n",
       "      <td>1</td>\n",
       "      <td>0</td>\n",
       "      <td>0</td>\n",
       "    </tr>\n",
       "    <tr>\n",
       "      <th>4</th>\n",
       "      <td>5</td>\n",
       "      <td>text</td>\n",
       "      <td>270.0</td>\n",
       "      <td>397</td>\n",
       "      <td>95</td>\n",
       "      <td>34</td>\n",
       "      <td>0.531913</td>\n",
       "      <td>4353</td>\n",
       "      <td>food</td>\n",
       "      <td>17</td>\n",
       "      <td>1</td>\n",
       "      <td>1</td>\n",
       "      <td>1</td>\n",
       "    </tr>\n",
       "  </tbody>\n",
       "</table>\n",
       "</div>"
      ],
      "text/plain": [
       "   user_id post_type  post_length  likes  comments  shares  engagement_rate  \\\n",
       "0        1     video        287.0    306        52      35         4.457269   \n",
       "1        2      text        149.0    330        78      36         4.845244   \n",
       "2        3     video        222.0    460        78      40         2.037067   \n",
       "3        4     video        185.0    265         3      16         2.023281   \n",
       "4        5      text        270.0    397        95      34         0.531913   \n",
       "\n",
       "   user_followers post_category  post_hour  is_weekend  user_verified  \\\n",
       "0            9204       fashion          3           0              0   \n",
       "1             596        sports          7           0              1   \n",
       "2            1563          food         12           1              1   \n",
       "3            6928        sports          9           1              0   \n",
       "4            4353          food         17           1              1   \n",
       "\n",
       "   spam_flag  \n",
       "0          0  \n",
       "1          0  \n",
       "2          1  \n",
       "3          0  \n",
       "4          1  "
      ]
     },
     "execution_count": 114,
     "metadata": {},
     "output_type": "execute_result"
    }
   ],
   "source": [
    "df.iloc[0:5]"
   ]
  },
  {
   "cell_type": "code",
   "execution_count": 115,
   "id": "d42c5d4b-d28c-4485-9865-7fcb7c47a3d3",
   "metadata": {},
   "outputs": [
    {
     "data": {
      "text/html": [
       "<div>\n",
       "<style scoped>\n",
       "    .dataframe tbody tr th:only-of-type {\n",
       "        vertical-align: middle;\n",
       "    }\n",
       "\n",
       "    .dataframe tbody tr th {\n",
       "        vertical-align: top;\n",
       "    }\n",
       "\n",
       "    .dataframe thead th {\n",
       "        text-align: right;\n",
       "    }\n",
       "</style>\n",
       "<table border=\"1\" class=\"dataframe\">\n",
       "  <thead>\n",
       "    <tr style=\"text-align: right;\">\n",
       "      <th></th>\n",
       "      <th>post_category</th>\n",
       "      <th>user_followers</th>\n",
       "    </tr>\n",
       "  </thead>\n",
       "  <tbody>\n",
       "    <tr>\n",
       "      <th>0</th>\n",
       "      <td>fashion</td>\n",
       "      <td>2474129</td>\n",
       "    </tr>\n",
       "    <tr>\n",
       "      <th>1</th>\n",
       "      <td>food</td>\n",
       "      <td>2659958</td>\n",
       "    </tr>\n",
       "    <tr>\n",
       "      <th>2</th>\n",
       "      <td>sports</td>\n",
       "      <td>2391243</td>\n",
       "    </tr>\n",
       "    <tr>\n",
       "      <th>3</th>\n",
       "      <td>technology</td>\n",
       "      <td>2528546</td>\n",
       "    </tr>\n",
       "  </tbody>\n",
       "</table>\n",
       "</div>"
      ],
      "text/plain": [
       "  post_category  user_followers\n",
       "0       fashion         2474129\n",
       "1          food         2659958\n",
       "2        sports         2391243\n",
       "3    technology         2528546"
      ]
     },
     "execution_count": 115,
     "metadata": {},
     "output_type": "execute_result"
    }
   ],
   "source": [
    "# most_user followers by post_category\n",
    "df.groupby('post_category')['user_followers'].sum().reset_index()"
   ]
  },
  {
   "cell_type": "code",
   "execution_count": 116,
   "id": "31984ee5-6b2b-4358-981d-a5693318ecdf",
   "metadata": {},
   "outputs": [],
   "source": [
    " grouped_df = df.groupby(['post_category','post_type']).sum().reset_index()"
   ]
  },
  {
   "cell_type": "code",
   "execution_count": 117,
   "id": "799e63e4-9878-4ce1-8452-5c87697984ce",
   "metadata": {},
   "outputs": [
    {
     "data": {
      "text/html": [
       "<div>\n",
       "<style scoped>\n",
       "    .dataframe tbody tr th:only-of-type {\n",
       "        vertical-align: middle;\n",
       "    }\n",
       "\n",
       "    .dataframe tbody tr th {\n",
       "        vertical-align: top;\n",
       "    }\n",
       "\n",
       "    .dataframe thead th {\n",
       "        text-align: right;\n",
       "    }\n",
       "</style>\n",
       "<table border=\"1\" class=\"dataframe\">\n",
       "  <thead>\n",
       "    <tr style=\"text-align: right;\">\n",
       "      <th></th>\n",
       "      <th>post_category</th>\n",
       "      <th>post_type</th>\n",
       "      <th>likes</th>\n",
       "      <th>comments</th>\n",
       "      <th>shares</th>\n",
       "      <th>engagement_rate</th>\n",
       "      <th>user_followers</th>\n",
       "    </tr>\n",
       "  </thead>\n",
       "  <tbody>\n",
       "    <tr>\n",
       "      <th>0</th>\n",
       "      <td>fashion</td>\n",
       "      <td>image</td>\n",
       "      <td>41290</td>\n",
       "      <td>8091</td>\n",
       "      <td>3956</td>\n",
       "      <td>437.436816</td>\n",
       "      <td>818000</td>\n",
       "    </tr>\n",
       "    <tr>\n",
       "      <th>1</th>\n",
       "      <td>fashion</td>\n",
       "      <td>text</td>\n",
       "      <td>40108</td>\n",
       "      <td>8469</td>\n",
       "      <td>3869</td>\n",
       "      <td>403.393059</td>\n",
       "      <td>842560</td>\n",
       "    </tr>\n",
       "    <tr>\n",
       "      <th>2</th>\n",
       "      <td>fashion</td>\n",
       "      <td>video</td>\n",
       "      <td>39764</td>\n",
       "      <td>7643</td>\n",
       "      <td>3972</td>\n",
       "      <td>410.045625</td>\n",
       "      <td>813569</td>\n",
       "    </tr>\n",
       "    <tr>\n",
       "      <th>3</th>\n",
       "      <td>food</td>\n",
       "      <td>image</td>\n",
       "      <td>40501</td>\n",
       "      <td>8827</td>\n",
       "      <td>4210</td>\n",
       "      <td>452.351708</td>\n",
       "      <td>823316</td>\n",
       "    </tr>\n",
       "    <tr>\n",
       "      <th>4</th>\n",
       "      <td>food</td>\n",
       "      <td>text</td>\n",
       "      <td>43939</td>\n",
       "      <td>9843</td>\n",
       "      <td>4203</td>\n",
       "      <td>461.470791</td>\n",
       "      <td>919955</td>\n",
       "    </tr>\n",
       "    <tr>\n",
       "      <th>5</th>\n",
       "      <td>food</td>\n",
       "      <td>video</td>\n",
       "      <td>40780</td>\n",
       "      <td>7769</td>\n",
       "      <td>4177</td>\n",
       "      <td>410.702533</td>\n",
       "      <td>916687</td>\n",
       "    </tr>\n",
       "    <tr>\n",
       "      <th>6</th>\n",
       "      <td>sports</td>\n",
       "      <td>image</td>\n",
       "      <td>42820</td>\n",
       "      <td>8424</td>\n",
       "      <td>4137</td>\n",
       "      <td>426.892685</td>\n",
       "      <td>864057</td>\n",
       "    </tr>\n",
       "    <tr>\n",
       "      <th>7</th>\n",
       "      <td>sports</td>\n",
       "      <td>text</td>\n",
       "      <td>40913</td>\n",
       "      <td>8278</td>\n",
       "      <td>3915</td>\n",
       "      <td>442.742213</td>\n",
       "      <td>811776</td>\n",
       "    </tr>\n",
       "    <tr>\n",
       "      <th>8</th>\n",
       "      <td>sports</td>\n",
       "      <td>video</td>\n",
       "      <td>36245</td>\n",
       "      <td>7098</td>\n",
       "      <td>3798</td>\n",
       "      <td>403.977486</td>\n",
       "      <td>715410</td>\n",
       "    </tr>\n",
       "    <tr>\n",
       "      <th>9</th>\n",
       "      <td>technology</td>\n",
       "      <td>image</td>\n",
       "      <td>40830</td>\n",
       "      <td>8238</td>\n",
       "      <td>3838</td>\n",
       "      <td>412.681791</td>\n",
       "      <td>832034</td>\n",
       "    </tr>\n",
       "    <tr>\n",
       "      <th>10</th>\n",
       "      <td>technology</td>\n",
       "      <td>text</td>\n",
       "      <td>42685</td>\n",
       "      <td>8367</td>\n",
       "      <td>4055</td>\n",
       "      <td>423.902840</td>\n",
       "      <td>858210</td>\n",
       "    </tr>\n",
       "    <tr>\n",
       "      <th>11</th>\n",
       "      <td>technology</td>\n",
       "      <td>video</td>\n",
       "      <td>45109</td>\n",
       "      <td>8154</td>\n",
       "      <td>4199</td>\n",
       "      <td>431.833695</td>\n",
       "      <td>838302</td>\n",
       "    </tr>\n",
       "  </tbody>\n",
       "</table>\n",
       "</div>"
      ],
      "text/plain": [
       "   post_category post_type  likes  comments  shares  engagement_rate  \\\n",
       "0        fashion     image  41290      8091    3956       437.436816   \n",
       "1        fashion      text  40108      8469    3869       403.393059   \n",
       "2        fashion     video  39764      7643    3972       410.045625   \n",
       "3           food     image  40501      8827    4210       452.351708   \n",
       "4           food      text  43939      9843    4203       461.470791   \n",
       "5           food     video  40780      7769    4177       410.702533   \n",
       "6         sports     image  42820      8424    4137       426.892685   \n",
       "7         sports      text  40913      8278    3915       442.742213   \n",
       "8         sports     video  36245      7098    3798       403.977486   \n",
       "9     technology     image  40830      8238    3838       412.681791   \n",
       "10    technology      text  42685      8367    4055       423.902840   \n",
       "11    technology     video  45109      8154    4199       431.833695   \n",
       "\n",
       "    user_followers  \n",
       "0           818000  \n",
       "1           842560  \n",
       "2           813569  \n",
       "3           823316  \n",
       "4           919955  \n",
       "5           916687  \n",
       "6           864057  \n",
       "7           811776  \n",
       "8           715410  \n",
       "9           832034  \n",
       "10          858210  \n",
       "11          838302  "
      ]
     },
     "execution_count": 117,
     "metadata": {},
     "output_type": "execute_result"
    }
   ],
   "source": [
    "#most likes , comments , shares engagement_rate , user_followers\n",
    "grouped_df.loc[0: ,['post_category','post_type','likes','comments','shares','engagement_rate','user_followers']]"
   ]
  },
  {
   "cell_type": "code",
   "execution_count": 118,
   "id": "e6f376f9-90e8-4f6c-9fd8-afadb8d04869",
   "metadata": {},
   "outputs": [
    {
     "data": {
      "text/plain": [
       "973"
      ]
     },
     "execution_count": 118,
     "metadata": {},
     "output_type": "execute_result"
    }
   ],
   "source": [
    "#posts uploaded on weekend\n",
    "df.query('is_weekend == 1')['user_id'].count()"
   ]
  },
  {
   "cell_type": "code",
   "execution_count": 119,
   "id": "782f1dd2-b811-4471-aa55-8d9bdec2fa9c",
   "metadata": {},
   "outputs": [
    {
     "data": {
      "text/plain": [
       "2000"
      ]
     },
     "execution_count": 119,
     "metadata": {},
     "output_type": "execute_result"
    }
   ],
   "source": [
    "df['user_id'].nunique()"
   ]
  },
  {
   "cell_type": "code",
   "execution_count": 120,
   "id": "8bff1c62-2ce2-481c-be3d-15b9add2c292",
   "metadata": {},
   "outputs": [],
   "source": [
    "#identifying users with highest share rate on posts\n",
    "\n",
    "df['share_rate_%'] = df['shares'] / df['user_followers'] * 100\n",
    "high_share_rte = df.sort_values(by = 'share_rate_%',ascending = False).head(5)"
   ]
  },
  {
   "cell_type": "code",
   "execution_count": 121,
   "id": "835fe051-0b1b-4162-bc61-4b0f7f961a01",
   "metadata": {},
   "outputs": [
    {
     "data": {
      "text/html": [
       "<div>\n",
       "<style scoped>\n",
       "    .dataframe tbody tr th:only-of-type {\n",
       "        vertical-align: middle;\n",
       "    }\n",
       "\n",
       "    .dataframe tbody tr th {\n",
       "        vertical-align: top;\n",
       "    }\n",
       "\n",
       "    .dataframe thead th {\n",
       "        text-align: right;\n",
       "    }\n",
       "</style>\n",
       "<table border=\"1\" class=\"dataframe\">\n",
       "  <thead>\n",
       "    <tr style=\"text-align: right;\">\n",
       "      <th></th>\n",
       "      <th>user_id</th>\n",
       "      <th>shares</th>\n",
       "      <th>share_rate_%</th>\n",
       "      <th>user_followers</th>\n",
       "    </tr>\n",
       "  </thead>\n",
       "  <tbody>\n",
       "    <tr>\n",
       "      <th>1774</th>\n",
       "      <td>1775</td>\n",
       "      <td>49</td>\n",
       "      <td>42.608696</td>\n",
       "      <td>115</td>\n",
       "    </tr>\n",
       "    <tr>\n",
       "      <th>1276</th>\n",
       "      <td>1277</td>\n",
       "      <td>46</td>\n",
       "      <td>29.487179</td>\n",
       "      <td>156</td>\n",
       "    </tr>\n",
       "    <tr>\n",
       "      <th>691</th>\n",
       "      <td>692</td>\n",
       "      <td>48</td>\n",
       "      <td>28.571429</td>\n",
       "      <td>168</td>\n",
       "    </tr>\n",
       "    <tr>\n",
       "      <th>745</th>\n",
       "      <td>746</td>\n",
       "      <td>39</td>\n",
       "      <td>25.827815</td>\n",
       "      <td>151</td>\n",
       "    </tr>\n",
       "    <tr>\n",
       "      <th>651</th>\n",
       "      <td>652</td>\n",
       "      <td>31</td>\n",
       "      <td>25.203252</td>\n",
       "      <td>123</td>\n",
       "    </tr>\n",
       "  </tbody>\n",
       "</table>\n",
       "</div>"
      ],
      "text/plain": [
       "      user_id  shares  share_rate_%  user_followers\n",
       "1774     1775      49     42.608696             115\n",
       "1276     1277      46     29.487179             156\n",
       "691       692      48     28.571429             168\n",
       "745       746      39     25.827815             151\n",
       "651       652      31     25.203252             123"
      ]
     },
     "execution_count": 121,
     "metadata": {},
     "output_type": "execute_result"
    }
   ],
   "source": [
    "high_share_rte[['user_id','shares','share_rate_%','user_followers']]"
   ]
  },
  {
   "cell_type": "code",
   "execution_count": 136,
   "id": "e9da9918-595c-48d1-a40c-f4f05c58e218",
   "metadata": {},
   "outputs": [
    {
     "data": {
      "image/png": "[encoded data removed]",
      "text/plain": [
       "<Figure size 640x480 with 1 Axes>"
      ]
     },
     "metadata": {},
     "output_type": "display_data"
    }
   ],
   "source": [
    "plt.bar(high_share_rte['user_id'].values.astype(str), high_share_rte['share_rate_%'].values , color =['skyblue', 'salmon', 'lightgreen', 'orange', 'purple'])\n",
    "plt.title('Users with highest share rate')\n",
    "plt.xlabel('user ID')\n",
    "plt.ylabel('share_rate_%')\n",
    "plt.grid(axis ='y' , linestyle='--',alpha=0.5)\n",
    "plt.show()"
   ]
  },
  {
   "cell_type": "code",
   "execution_count": null,
   "id": "548de26c-4693-4061-9d66-ac6b9f1385b5",
   "metadata": {},
   "outputs": [],
   "source": []
  }
 ],
 "metadata": {
  "kernelspec": {
   "display_name": "Python 3 (ipykernel)",
   "language": "python",
   "name": "python3"
  },
  "language_info": {
   "codemirror_mode": {
    "name": "ipython",
    "version": 3
   },
   "file_extension": ".py",
   "mimetype": "text/x-python",
   "name": "python",
   "nbconvert_exporter": "python",
   "pygments_lexer": "ipython3",
   "version": "3.11.7"
  }
 },
 "nbformat": 4,
 "nbformat_minor": 5
}
